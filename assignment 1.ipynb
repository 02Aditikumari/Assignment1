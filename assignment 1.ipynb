{
 "cells": [
  {
   "cell_type": "markdown",
   "id": "4d3bb231",
   "metadata": {},
   "source": [
    "# Assignment 1 by Aditi kumari"
   ]
  },
  {
   "cell_type": "markdown",
   "id": "52dcf613",
   "metadata": {},
   "source": [
    "# question no. 1  Write code that uses iteration to print out the length of each element of the list stored in list.\n",
    "list = [\"hello\", \"\", \"goodbye\", \"wonderful\", \"I love Python\"]"
   ]
  },
  {
   "cell_type": "code",
   "execution_count": 1,
   "id": "9650da4f",
   "metadata": {},
   "outputs": [],
   "source": [
    "list = [\"hello\", \"goodbye\", \"wonderful\", \"wonderful\", \"I love Python\"]"
   ]
  },
  {
   "cell_type": "code",
   "execution_count": 2,
   "id": "010bf91c",
   "metadata": {},
   "outputs": [
    {
     "name": "stdout",
     "output_type": "stream",
     "text": [
      "5\n",
      "7\n",
      "9\n",
      "9\n",
      "13\n"
     ]
    }
   ],
   "source": [
    "for i in list:\n",
    "    print(len(i))"
   ]
  },
  {
   "cell_type": "markdown",
   "id": "8626e66f",
   "metadata": {},
   "source": [
    "# question no 2-. Write a Python program to count and display the vowels of a given text."
   ]
  },
  {
   "cell_type": "code",
   "execution_count": 3,
   "id": "3dada47d",
   "metadata": {},
   "outputs": [
    {
     "name": "stdout",
     "output_type": "stream",
     "text": [
      "3\n",
      "['e', 'e', 'a']\n"
     ]
    }
   ],
   "source": [
    "def vowel (text):\n",
    "    vowels = \"aeiouAEIOU\"\n",
    "    print (len ([letter for letter in text if letter in vowels]))\n",
    "    print ([letter for letter in text if letter in vowels])\n",
    "\n",
    "vowel ('elephant')"
   ]
  },
  {
   "cell_type": "markdown",
   "id": "8765f2a4",
   "metadata": {},
   "source": [
    "# Question no 3- Write code to create a list of numbers from 0 to 88 and assign that list to the variable nums. Do not hard code the list."
   ]
  },
  {
   "cell_type": "code",
   "execution_count": 4,
   "id": "c7d7a1f3",
   "metadata": {},
   "outputs": [],
   "source": [
    "nums=[] \n",
    "for num in range(0,88):\n",
    "    \n",
    "    nums.append(num)"
   ]
  },
  {
   "cell_type": "code",
   "execution_count": 5,
   "id": "a069b702",
   "metadata": {},
   "outputs": [
    {
     "name": "stdout",
     "output_type": "stream",
     "text": [
      "[0, 1, 2, 3, 4, 5, 6, 7, 8, 9, 10, 11, 12, 13, 14, 15, 16, 17, 18, 19, 20, 21, 22, 23, 24, 25, 26, 27, 28, 29, 30, 31, 32, 33, 34, 35, 36, 37, 38, 39, 40, 41, 42, 43, 44, 45, 46, 47, 48, 49, 50, 51, 52, 53, 54, 55, 56, 57, 58, 59, 60, 61, 62, 63, 64, 65, 66, 67, 68, 69, 70, 71, 72, 73, 74, 75, 76, 77, 78, 79, 80, 81, 82, 83, 84, 85, 86, 87]\n"
     ]
    }
   ],
   "source": [
    "print (nums)"
   ]
  },
  {
   "cell_type": "markdown",
   "id": "8c672c17",
   "metadata": {},
   "source": [
    "# Question no.4-Addition is a string with a list of numbers separated by the + sign. Write code that uses the accumulation pattern to take the sum of all of the numbers and assigns it to sum_val (an integer). (You should use the .split(\"+\") function to split by \"+\" and int() to cast to an integer).\n",
    "Addition = \"2+5+10+20\""
   ]
  },
  {
   "cell_type": "code",
   "execution_count": 6,
   "id": "85716478",
   "metadata": {},
   "outputs": [
    {
     "name": "stdout",
     "output_type": "stream",
     "text": [
      "37\n",
      "['2', '5', '10', '20']\n"
     ]
    }
   ],
   "source": [
    "addition_str=\"2+5+10+20\"\n",
    "addition_str = addition_str.split(\"+\")\n",
    "\n",
    "sum_val = 0\n",
    "for num in addition_str:\n",
    "    sum_val += int(num)\n",
    "    \n",
    "print (sum_val)\n",
    "print (addition_str)\n"
   ]
  },
  {
   "cell_type": "markdown",
   "id": "dd923f4d",
   "metadata": {},
   "source": [
    "# Question no.5-.Write a Python program to find the volume of a sphere with diameter 12 cm.\n",
    "Formula: V=4/3 * π * r 3"
   ]
  },
  {
   "cell_type": "code",
   "execution_count": 7,
   "id": "d61b8644",
   "metadata": {},
   "outputs": [
    {
     "name": "stdout",
     "output_type": "stream",
     "text": [
      "718.3775201208659\n"
     ]
    }
   ],
   "source": [
    "import math\n",
    "pi = math.pi\n",
    "r = float(14/2)\n",
    "V = (float(2/3)*(pi)*(r)**3)\n",
    "print(V)"
   ]
  }
 ],
 "metadata": {
  "kernelspec": {
   "display_name": "Python 3",
   "language": "python",
   "name": "python3"
  },
  "language_info": {
   "codemirror_mode": {
    "name": "ipython",
    "version": 3
   },
   "file_extension": ".py",
   "mimetype": "text/x-python",
   "name": "python",
   "nbconvert_exporter": "python",
   "pygments_lexer": "ipython3",
   "version": "3.8.8"
  }
 },
 "nbformat": 4,
 "nbformat_minor": 5
}
